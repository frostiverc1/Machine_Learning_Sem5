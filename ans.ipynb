{
 "cells": [
  {
   "cell_type": "code",
   "execution_count": 21,
   "metadata": {},
   "outputs": [],
   "source": [
    "import pandas as pd\n",
    "import numpy as np\n",
    "import math"
   ]
  },
  {
   "cell_type": "markdown",
   "metadata": {},
   "source": [
    "A1. For the data table provided below, calculate the entropy associated with each attribute / feature \n",
    "at the root node. Using this information, identify the first feature that you’d select for constructing \n",
    "the decision tree. Use Information Gain as the impurity measure to identify the root node.\n",
    "‘buys_computer’ is the class label."
   ]
  },
  {
   "cell_type": "code",
   "execution_count": 23,
   "metadata": {},
   "outputs": [
    {
     "ename": "TypeError",
     "evalue": "cannot unpack non-iterable int object",
     "output_type": "error",
     "traceback": [
      "\u001b[1;31m---------------------------------------------------------------------------\u001b[0m",
      "\u001b[1;31mTypeError\u001b[0m                                 Traceback (most recent call last)",
      "\u001b[1;32md:\\ONLINE CLASSES (ENGINEERING)\\SEM 5\\PROJECTS\\19CSE305 MACHINE LEARNING\\lab4\\ans.ipynb Cell 3\u001b[0m line \u001b[0;36m5\n\u001b[0;32m      <a href='vscode-notebook-cell:/d%3A/ONLINE%20CLASSES%20%28ENGINEERING%29/SEM%205/PROJECTS/19CSE305%20MACHINE%20LEARNING/lab4/ans.ipynb#W2sZmlsZQ%3D%3D?line=2'>3</a>\u001b[0m c1_stud\u001b[39m=\u001b[39mdf\u001b[39m.\u001b[39miloc[\u001b[39m0\u001b[39m:,\u001b[39m2\u001b[39m]\n\u001b[0;32m      <a href='vscode-notebook-cell:/d%3A/ONLINE%20CLASSES%20%28ENGINEERING%29/SEM%205/PROJECTS/19CSE305%20MACHINE%20LEARNING/lab4/ans.ipynb#W2sZmlsZQ%3D%3D?line=3'>4</a>\u001b[0m c2_buys_comp\u001b[39m=\u001b[39mdf\u001b[39m.\u001b[39miloc[\u001b[39m0\u001b[39m:,\u001b[39m4\u001b[39m]\n\u001b[1;32m----> <a href='vscode-notebook-cell:/d%3A/ONLINE%20CLASSES%20%28ENGINEERING%29/SEM%205/PROJECTS/19CSE305%20MACHINE%20LEARNING/lab4/ans.ipynb#W2sZmlsZQ%3D%3D?line=4'>5</a>\u001b[0m _,counts \u001b[39m=\u001b[39m \u001b[39mlen\u001b[39m(\u001b[39mset\u001b[39m(np\u001b[39m.\u001b[39munique(c1_stud)))\n\u001b[0;32m      <a href='vscode-notebook-cell:/d%3A/ONLINE%20CLASSES%20%28ENGINEERING%29/SEM%205/PROJECTS/19CSE305%20MACHINE%20LEARNING/lab4/ans.ipynb#W2sZmlsZQ%3D%3D?line=5'>6</a>\u001b[0m prob\u001b[39m=\u001b[39mcounts\u001b[39m/\u001b[39m\u001b[39mlen\u001b[39m(c1_stud)\n\u001b[0;32m      <a href='vscode-notebook-cell:/d%3A/ONLINE%20CLASSES%20%28ENGINEERING%29/SEM%205/PROJECTS/19CSE305%20MACHINE%20LEARNING/lab4/ans.ipynb#W2sZmlsZQ%3D%3D?line=6'>7</a>\u001b[0m counts\n",
      "\u001b[1;31mTypeError\u001b[0m: cannot unpack non-iterable int object"
     ]
    }
   ],
   "source": [
    "df=pd.read_excel('D:/ONLINE CLASSES (ENGINEERING)/SEM 5/PROJECTS/19CSE305 MACHINE LEARNING/lab4/lab4-dataset.xlsx')\n",
    "\n",
    "c1_stud=df.iloc[0:,2]\n",
    "c2_buys_comp=df.iloc[0:,4]\n",
    "_,counts = len(set(np.unique(c1_stud)))\n",
    "prob=counts/len(c1_stud)\n",
    "counts\n"
   ]
  }
 ],
 "metadata": {
  "kernelspec": {
   "display_name": "Python 3",
   "language": "python",
   "name": "python3"
  },
  "language_info": {
   "codemirror_mode": {
    "name": "ipython",
    "version": 3
   },
   "file_extension": ".py",
   "mimetype": "text/x-python",
   "name": "python",
   "nbconvert_exporter": "python",
   "pygments_lexer": "ipython3",
   "version": "3.8.6rc1"
  },
  "orig_nbformat": 4
 },
 "nbformat": 4,
 "nbformat_minor": 2
}
